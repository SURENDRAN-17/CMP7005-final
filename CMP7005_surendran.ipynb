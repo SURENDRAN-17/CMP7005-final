{
  "cells": [
    {
      "cell_type": "markdown",
      "metadata": {
        "id": "view-in-github",
        "colab_type": "text"
      },
      "source": [
        "<a href=\"https://colab.research.google.com/github/SURENDRAN-17/CMP7005-final/blob/main/CMP7005_surendran.ipynb\" target=\"_parent\"><img src=\"https://colab.research.google.com/assets/colab-badge.svg\" alt=\"Open In Colab\"/></a>"
      ]
    },
    {
      "cell_type": "code",
      "execution_count": null,
      "id": "e01506bf",
      "metadata": {
        "id": "e01506bf",
        "outputId": "c291d294-2f1b-4ba1-b4cb-2421b87546d5",
        "colab": {
          "base_uri": "https://localhost:8080/",
          "height": 219
        }
      },
      "outputs": [
        {
          "output_type": "error",
          "ename": "FileNotFoundError",
          "evalue": "[Errno 2] No such file or directory: '/mnt/data/PRSA_Data_extracted/PRSA_Data_20130301-20170228/'",
          "traceback": [
            "\u001b[0;31m---------------------------------------------------------------------------\u001b[0m",
            "\u001b[0;31mFileNotFoundError\u001b[0m                         Traceback (most recent call last)",
            "\u001b[0;32m<ipython-input-1-245e39c18103>\u001b[0m in \u001b[0;36m<cell line: 8>\u001b[0;34m()\u001b[0m\n\u001b[1;32m      6\u001b[0m \u001b[0;34m\u001b[0m\u001b[0m\n\u001b[1;32m      7\u001b[0m \u001b[0;31m# Load all the CSV files into a dictionary of dataframes\u001b[0m\u001b[0;34m\u001b[0m\u001b[0;34m\u001b[0m\u001b[0m\n\u001b[0;32m----> 8\u001b[0;31m \u001b[0mdata_files\u001b[0m \u001b[0;34m=\u001b[0m \u001b[0;34m[\u001b[0m\u001b[0mf\u001b[0m \u001b[0;32mfor\u001b[0m \u001b[0mf\u001b[0m \u001b[0;32min\u001b[0m \u001b[0mos\u001b[0m\u001b[0;34m.\u001b[0m\u001b[0mlistdir\u001b[0m\u001b[0;34m(\u001b[0m\u001b[0mdata_dir\u001b[0m\u001b[0;34m)\u001b[0m \u001b[0;32mif\u001b[0m \u001b[0mf\u001b[0m\u001b[0;34m.\u001b[0m\u001b[0mendswith\u001b[0m\u001b[0;34m(\u001b[0m\u001b[0;34m'.csv'\u001b[0m\u001b[0;34m)\u001b[0m\u001b[0;34m]\u001b[0m\u001b[0;34m\u001b[0m\u001b[0;34m\u001b[0m\u001b[0m\n\u001b[0m\u001b[1;32m      9\u001b[0m \u001b[0mdataframes\u001b[0m \u001b[0;34m=\u001b[0m \u001b[0;34m{\u001b[0m\u001b[0;34m}\u001b[0m\u001b[0;34m\u001b[0m\u001b[0;34m\u001b[0m\u001b[0m\n\u001b[1;32m     10\u001b[0m \u001b[0;34m\u001b[0m\u001b[0m\n",
            "\u001b[0;31mFileNotFoundError\u001b[0m: [Errno 2] No such file or directory: '/mnt/data/PRSA_Data_extracted/PRSA_Data_20130301-20170228/'"
          ]
        }
      ],
      "source": [
        "\n",
        "import pandas as pd\n",
        "import os\n",
        "\n",
        "# Directory containing the dataset files\n",
        "data_dir = \"/mnt/data/PRSA_Data_extracted/PRSA_Data_20130301-20170228/\"\n",
        "\n",
        "# Load all the CSV files into a dictionary of dataframes\n",
        "data_files = [f for f in os.listdir(data_dir) if f.endswith('.csv')]\n",
        "dataframes = {}\n",
        "\n",
        "for file in data_files:\n",
        "    file_path = os.path.join(data_dir, file)\n",
        "    key = file.split('_')[2]  # Extract site name as key\n",
        "    dataframes[key] = pd.read_csv(file_path)\n",
        "\n",
        "# Combine all dataframes into one for analysis\n",
        "combined_df = pd.concat(dataframes.values(), keys=dataframes.keys(), names=[\"Site\", \"Index\"])\n",
        "combined_df.reset_index(level=0, inplace=True)\n",
        "combined_df.head()\n"
      ]
    },
    {
      "cell_type": "code",
      "execution_count": null,
      "id": "87a83072",
      "metadata": {
        "id": "87a83072"
      },
      "outputs": [],
      "source": [
        "\n",
        "# General Information about the dataset\n",
        "print(combined_df.info())\n",
        "\n",
        "# Checking for missing values\n",
        "missing_values = combined_df.isnull().sum()\n",
        "\n",
        "# Handling missing values (example: filling with mean)\n",
        "combined_df.fillna(combined_df.mean(), inplace=True)\n",
        "\n",
        "# Summary statistics\n",
        "summary_stats = combined_df.describe()\n",
        "\n",
        "# Visualization: Pairplot for relationships\n",
        "import matplotlib.pyplot as plt\n",
        "import seaborn as sns\n",
        "\n",
        "sns.heatmap(combined_df.isnull(), cbar=False, cmap='viridis')\n",
        "plt.title('Missing Values Heatmap')\n",
        "plt.show()\n"
      ]
    },
    {
      "cell_type": "code",
      "execution_count": null,
      "id": "7d0e71bb",
      "metadata": {
        "id": "7d0e71bb"
      },
      "outputs": [],
      "source": [
        "\n",
        "from sklearn.model_selection import train_test_split\n",
        "from sklearn.ensemble import RandomForestRegressor\n",
        "from sklearn.metrics import mean_squared_error\n",
        "\n",
        "# Select features and target for a simple regression model\n",
        "features = ['PM2.5', 'PM10', 'NO2', 'CO', 'O3', 'SO2']\n",
        "target = 'TEMP'\n",
        "\n",
        "# Drop rows with missing target values\n",
        "model_data = combined_df.dropna(subset=[target])\n",
        "X = model_data[features]\n",
        "y = model_data[target]\n",
        "\n",
        "# Train-test split\n",
        "X_train, X_test, y_train, y_test = train_test_split(X, y, test_size=0.2, random_state=42)\n",
        "\n",
        "# Model training\n",
        "model = RandomForestRegressor(random_state=42)\n",
        "model.fit(X_train, y_train)\n",
        "\n",
        "# Model evaluation\n",
        "y_pred = model.predict(X_test)\n",
        "mse = mean_squared_error(y_test, y_pred)\n",
        "print(f\"Mean Squared Error: {mse}\")\n"
      ]
    },
    {
      "cell_type": "code",
      "execution_count": null,
      "id": "5d720be2",
      "metadata": {
        "id": "5d720be2"
      },
      "outputs": [],
      "source": [
        "\n",
        "import tkinter as tk\n",
        "from tkinter import ttk\n",
        "\n",
        "def show_data_overview():\n",
        "    overview_window = tk.Toplevel(root)\n",
        "    overview_window.title(\"Data Overview\")\n",
        "    text = tk.Text(overview_window, wrap='word')\n",
        "    text.insert('1.0', str(combined_df.describe()))\n",
        "    text.pack(expand=True, fill='both')\n",
        "\n",
        "# GUI Application\n",
        "root = tk.Tk()\n",
        "root.title(\"Air Quality Analysis\")\n",
        "\n",
        "main_frame = ttk.Frame(root)\n",
        "main_frame.pack(fill='both', expand=True)\n",
        "\n",
        "overview_button = ttk.Button(main_frame, text=\"Data Overview\", command=show_data_overview)\n",
        "overview_button.pack(pady=10)\n",
        "\n",
        "root.mainloop()\n"
      ]
    },
    {
      "cell_type": "code",
      "execution_count": null,
      "id": "0314af33",
      "metadata": {
        "id": "0314af33"
      },
      "outputs": [],
      "source": [
        "\n",
        "# Ensure to commit your work using GitHub.\n",
        "# Example Git commands:\n",
        "# git add .\n",
        "# git commit -m \"Initial commit: Data analysis tasks 1 to 4 completed\"\n",
        "# git push origin main\n"
      ]
    }
  ],
  "metadata": {
    "colab": {
      "provenance": [],
      "include_colab_link": true
    },
    "language_info": {
      "name": "python"
    },
    "kernelspec": {
      "name": "python3",
      "display_name": "Python 3"
    }
  },
  "nbformat": 4,
  "nbformat_minor": 5
}