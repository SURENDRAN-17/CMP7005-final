{
  "cells": [
    {
      "cell_type": "markdown",
      "metadata": {
        "id": "view-in-github",
        "colab_type": "text"
      },
      "source": [
        "<a href=\"https://colab.research.google.com/github/SURENDRAN-17/CMP7005-final/blob/main/CMP7005_surendran.ipynb\" target=\"_parent\"><img src=\"https://colab.research.google.com/assets/colab-badge.svg\" alt=\"Open In Colab\"/></a>"
      ]
    },
    {
      "cell_type": "code",
      "source": [],
      "metadata": {
        "id": "xUPJQ1rDsgj3"
      },
      "id": "xUPJQ1rDsgj3",
      "execution_count": null,
      "outputs": []
    },
    {
      "cell_type": "code",
      "execution_count": null,
      "id": "0314af33",
      "metadata": {
        "id": "0314af33"
      },
      "outputs": [],
      "source": [
        "\n",
        "# Ensure to commit your work using GitHub.\n",
        "# Example Git commands:\n",
        "# git add .\n",
        "# git commit -m \"Initial commit: Data analysis tasks 1 to 4 completed\"\n",
        "# git push origin main\n"
      ]
    },
    {
      "cell_type": "code",
      "source": [],
      "metadata": {
        "id": "qOZqRvxHuUjB"
      },
      "id": "qOZqRvxHuUjB",
      "execution_count": null,
      "outputs": []
    },
    {
      "cell_type": "code",
      "source": [
        "import pandas as pd\n",
        "\n",
        "# File paths\n",
        "files = [\n",
        "    'PRSA_Data_Dongsi_20130301-20170228.csv',\n",
        "    'PRSA_Data_Guanyuan_20130301-20170228.csv',\n",
        "    'PRSA_Data_Gucheng_20130301-20170228.csv',\n",
        "    'PRSA_Data_Huairou_20130301-20170228.csv',\n",
        "    'PRSA_Data_Nongzhanguan_20130301-20170228.csv',\n",
        "    'PRSA_Data_Shunyi_20130301-20170228.csv'\n",
        "]\n",
        "\n",
        "# Load and merge datasets\n",
        "dataframes = [pd.read_csv(file) for file in files]\n",
        "combined_data = pd.concat(dataframes, ignore_index=True)\n",
        "\n",
        "# Display the first few rows and information about the combined dataset\n",
        "print(combined_data.head())\n",
        "print(combined_data.info())\n"
      ],
      "metadata": {
        "colab": {
          "base_uri": "https://localhost:8080/"
        },
        "id": "-I1iNNhchUSH",
        "outputId": "bc247fee-45db-4f81-8273-a51e41db5318"
      },
      "id": "-I1iNNhchUSH",
      "execution_count": null,
      "outputs": [
        {
          "output_type": "stream",
          "name": "stdout",
          "text": [
            "   No  year  month  day  hour  PM2.5  PM10  SO2   NO2     CO    O3  TEMP  \\\n",
            "0   1  2013      3    1     0    9.0   9.0  3.0  17.0  300.0  89.0  -0.5   \n",
            "1   2  2013      3    1     1    4.0   4.0  3.0  16.0  300.0  88.0  -0.7   \n",
            "2   3  2013      3    1     2    7.0   7.0  NaN  17.0  300.0  60.0  -1.2   \n",
            "3   4  2013      3    1     3    3.0   3.0  5.0  18.0    NaN   NaN  -1.4   \n",
            "4   5  2013      3    1     4    3.0   3.0  7.0   NaN  200.0  84.0  -1.9   \n",
            "\n",
            "     PRES  DEWP  RAIN   wd  WSPM station  \n",
            "0  1024.5 -21.4   0.0  NNW   5.7  Dongsi  \n",
            "1  1025.1 -22.1   0.0   NW   3.9  Dongsi  \n",
            "2  1025.3 -24.6   0.0  NNW   5.3  Dongsi  \n",
            "3  1026.2 -25.5   0.0    N   4.9  Dongsi  \n",
            "4  1027.1 -24.5   0.0  NNW   3.2  Dongsi  \n",
            "<class 'pandas.core.frame.DataFrame'>\n",
            "RangeIndex: 210384 entries, 0 to 210383\n",
            "Data columns (total 18 columns):\n",
            " #   Column   Non-Null Count   Dtype  \n",
            "---  ------   --------------   -----  \n",
            " 0   No       210384 non-null  int64  \n",
            " 1   year     210384 non-null  int64  \n",
            " 2   month    210384 non-null  int64  \n",
            " 3   day      210384 non-null  int64  \n",
            " 4   hour     210384 non-null  int64  \n",
            " 5   PM2.5    205878 non-null  float64\n",
            " 6   PM10     207256 non-null  float64\n",
            " 7   SO2      206018 non-null  float64\n",
            " 8   NO2      203760 non-null  float64\n",
            " 9   CO       199227 non-null  float64\n",
            " 10  O3       204672 non-null  float64\n",
            " 11  TEMP     210171 non-null  float64\n",
            " 12  PRES     210170 non-null  float64\n",
            " 13  DEWP     210166 non-null  float64\n",
            " 14  RAIN     210175 non-null  float64\n",
            " 15  wd       209203 non-null  object \n",
            " 16  WSPM     210207 non-null  float64\n",
            " 17  station  210384 non-null  object \n",
            "dtypes: float64(11), int64(5), object(2)\n",
            "memory usage: 28.9+ MB\n",
            "None\n"
          ]
        }
      ]
    },
    {
      "cell_type": "code",
      "source": [
        "# Load and merge datasets\n",
        "dataframes = [pd.read_csv(file) for file in files]\n",
        "combined_data = pd.concat(dataframes, ignore_index=True)"
      ],
      "metadata": {
        "id": "mUm9Md5tjLqg"
      },
      "id": "mUm9Md5tjLqg",
      "execution_count": null,
      "outputs": []
    },
    {
      "cell_type": "code",
      "source": [
        "# Display the number of rows and columns\n",
        "print(\"Number of rows:\", combined_data.shape[0])\n",
        "print(\"Number of columns:\", combined_data.shape[1])"
      ],
      "metadata": {
        "colab": {
          "base_uri": "https://localhost:8080/"
        },
        "id": "3_1apcL6jNVw",
        "outputId": "5be811fa-1044-40f7-ec29-187c9666987a"
      },
      "id": "3_1apcL6jNVw",
      "execution_count": null,
      "outputs": [
        {
          "output_type": "stream",
          "name": "stdout",
          "text": [
            "Number of rows: 210384\n",
            "Number of columns: 18\n"
          ]
        }
      ]
    },
    {
      "cell_type": "code",
      "source": [
        "print(\"\\nData types of each column:\")\n",
        "print(combined_data.dtypes)\n"
      ],
      "metadata": {
        "colab": {
          "base_uri": "https://localhost:8080/"
        },
        "id": "H3DHIiL8jTgR",
        "outputId": "7ae3029d-2976-4c90-b4ad-b7562d24a3db"
      },
      "id": "H3DHIiL8jTgR",
      "execution_count": null,
      "outputs": [
        {
          "output_type": "stream",
          "name": "stdout",
          "text": [
            "\n",
            "Data types of each column:\n",
            "No           int64\n",
            "year         int64\n",
            "month        int64\n",
            "day          int64\n",
            "hour         int64\n",
            "PM2.5      float64\n",
            "PM10       float64\n",
            "SO2        float64\n",
            "NO2        float64\n",
            "CO         float64\n",
            "O3         float64\n",
            "TEMP       float64\n",
            "PRES       float64\n",
            "DEWP       float64\n",
            "RAIN       float64\n",
            "wd          object\n",
            "WSPM       float64\n",
            "station     object\n",
            "dtype: object\n"
          ]
        }
      ]
    },
    {
      "cell_type": "code",
      "source": [
        "print(\"\\nMissing values in each column:\")\n",
        "print(combined_data.isnull().sum())"
      ],
      "metadata": {
        "colab": {
          "base_uri": "https://localhost:8080/"
        },
        "id": "Y6BVpQbOjbnQ",
        "outputId": "e7a5be1b-17dd-42e9-f7d4-ef095c5235c7"
      },
      "id": "Y6BVpQbOjbnQ",
      "execution_count": null,
      "outputs": [
        {
          "output_type": "stream",
          "name": "stdout",
          "text": [
            "\n",
            "Missing values in each column:\n",
            "No             0\n",
            "year           0\n",
            "month          0\n",
            "day            0\n",
            "hour           0\n",
            "PM2.5       4506\n",
            "PM10        3128\n",
            "SO2         4366\n",
            "NO2         6624\n",
            "CO         11157\n",
            "O3          5712\n",
            "TEMP         213\n",
            "PRES         214\n",
            "DEWP         218\n",
            "RAIN         209\n",
            "wd          1181\n",
            "WSPM         177\n",
            "station        0\n",
            "dtype: int64\n"
          ]
        }
      ]
    },
    {
      "cell_type": "code",
      "source": [
        "\n",
        "# Importing the datasets\n",
        "data_dongsi = pd.read_csv('/content/PRSA_Data_Dongsi_20130301-20170228.csv')\n",
        "data_guanyuan = pd.read_csv('/content/PRSA_Data_Guanyuan_20130301-20170228.csv')\n",
        "data_gucheng = pd.read_csv('/content/PRSA_Data_Gucheng_20130301-20170228.csv')\n",
        "data_huairou = pd.read_csv('/content/PRSA_Data_Huairou_20130301-20170228.csv')\n",
        "data_nongzhanguan = pd.read_csv('/content/PRSA_Data_Nongzhanguan_20130301-20170228.csv')\n",
        "data_shunyi = pd.read_csv('/content/PRSA_Data_Shunyi_20130301-20170228.csv')"
      ],
      "metadata": {
        "id": "e3-g7kyM4Thk"
      },
      "id": "e3-g7kyM4Thk",
      "execution_count": null,
      "outputs": []
    },
    {
      "cell_type": "code",
      "source": [],
      "metadata": {
        "id": "p6rlhsMp6JRl"
      },
      "id": "p6rlhsMp6JRl",
      "execution_count": null,
      "outputs": []
    },
    {
      "cell_type": "code",
      "source": [
        "# Merging the datasets\n",
        "data_merged = pd.concat([data_dongsi, data_guanyuan, data_gucheng, data_huairou, data_nongzhanguan, data_shunyi], ignore_index=True)"
      ],
      "metadata": {
        "id": "UpBVd4o_49TS"
      },
      "id": "UpBVd4o_49TS",
      "execution_count": null,
      "outputs": []
    },
    {
      "cell_type": "code",
      "source": [
        "# Removing Duplicate Entries\n",
        "# This removes any row that is an exact duplicate of another\n",
        "data_merged.drop_duplicates(inplace=True)"
      ],
      "metadata": {
        "id": "qWJ7YPZO5PHQ"
      },
      "id": "qWJ7YPZO5PHQ",
      "execution_count": null,
      "outputs": []
    },
    {
      "cell_type": "code",
      "source": [
        "# Optionally, you can specify a subset of columns to consider for identifying duplicates\n",
        "# data_merged.drop_duplicates(subset=['column1', 'column2'], inplace=True)\n",
        "\n",
        "# Show how many records are in the dataset after duplicates are removed\n",
        "print(f\"Number of records after removing duplicates: {data_merged.shape[0]}\")\n"
      ],
      "metadata": {
        "colab": {
          "base_uri": "https://localhost:8080/"
        },
        "id": "VE5bYfcf5XHf",
        "outputId": "e082ef33-318b-47d7-b01f-254f40de6109"
      },
      "id": "VE5bYfcf5XHf",
      "execution_count": null,
      "outputs": [
        {
          "output_type": "stream",
          "name": "stdout",
          "text": [
            "Number of records after removing duplicates: 210384\n"
          ]
        }
      ]
    },
    {
      "cell_type": "code",
      "source": [
        "# Display the first few rows to verify changes\n",
        "print(data_merged.head())"
      ],
      "metadata": {
        "colab": {
          "base_uri": "https://localhost:8080/"
        },
        "id": "Ee-MW5KA5Y_C",
        "outputId": "01e38ad2-8de2-45b1-be05-f721890138c7"
      },
      "id": "Ee-MW5KA5Y_C",
      "execution_count": null,
      "outputs": [
        {
          "output_type": "stream",
          "name": "stdout",
          "text": [
            "   No  year  month  day  hour  PM2.5  PM10  SO2   NO2     CO    O3  TEMP  \\\n",
            "0   1  2013      3    1     0    9.0   9.0  3.0  17.0  300.0  89.0  -0.5   \n",
            "1   2  2013      3    1     1    4.0   4.0  3.0  16.0  300.0  88.0  -0.7   \n",
            "2   3  2013      3    1     2    7.0   7.0  NaN  17.0  300.0  60.0  -1.2   \n",
            "3   4  2013      3    1     3    3.0   3.0  5.0  18.0    NaN   NaN  -1.4   \n",
            "4   5  2013      3    1     4    3.0   3.0  7.0   NaN  200.0  84.0  -1.9   \n",
            "\n",
            "     PRES  DEWP  RAIN   wd  WSPM station  \n",
            "0  1024.5 -21.4   0.0  NNW   5.7  Dongsi  \n",
            "1  1025.1 -22.1   0.0   NW   3.9  Dongsi  \n",
            "2  1025.3 -24.6   0.0  NNW   5.3  Dongsi  \n",
            "3  1026.2 -25.5   0.0    N   4.9  Dongsi  \n",
            "4  1027.1 -24.5   0.0  NNW   3.2  Dongsi  \n"
          ]
        }
      ]
    },
    {
      "cell_type": "code",
      "source": [
        "print(data_merged.columns)"
      ],
      "metadata": {
        "colab": {
          "base_uri": "https://localhost:8080/"
        },
        "id": "wlVnKNUv66Qs",
        "outputId": "f1766808-e8f0-4e86-a962-d52700cf0594"
      },
      "id": "wlVnKNUv66Qs",
      "execution_count": null,
      "outputs": [
        {
          "output_type": "stream",
          "name": "stdout",
          "text": [
            "Index(['No', 'year', 'month', 'day', 'hour', 'PM2.5', 'PM10', 'SO2', 'NO2',\n",
            "       'CO', 'O3', 'TEMP', 'PRES', 'DEWP', 'RAIN', 'wd', 'WSPM', 'station'],\n",
            "      dtype='object')\n"
          ]
        }
      ]
    },
    {
      "cell_type": "code",
      "source": [
        "!pip install streamlit\n",
        "!pip install pyngrok==4.1.1\n"
      ],
      "metadata": {
        "colab": {
          "base_uri": "https://localhost:8080/"
        },
        "id": "DUYIJYUQ2rWY",
        "outputId": "bd23fdd8-d689-4534-c451-554875dfcbc1"
      },
      "id": "DUYIJYUQ2rWY",
      "execution_count": null,
      "outputs": [
        {
          "output_type": "stream",
          "name": "stdout",
          "text": [
            "Requirement already satisfied: streamlit in /usr/local/lib/python3.10/dist-packages (1.41.1)\n",
            "Requirement already satisfied: altair<6,>=4.0 in /usr/local/lib/python3.10/dist-packages (from streamlit) (5.5.0)\n",
            "Requirement already satisfied: blinker<2,>=1.0.0 in /usr/local/lib/python3.10/dist-packages (from streamlit) (1.9.0)\n",
            "Requirement already satisfied: cachetools<6,>=4.0 in /usr/local/lib/python3.10/dist-packages (from streamlit) (5.5.0)\n",
            "Requirement already satisfied: click<9,>=7.0 in /usr/local/lib/python3.10/dist-packages (from streamlit) (8.1.7)\n",
            "Requirement already satisfied: numpy<3,>=1.23 in /usr/local/lib/python3.10/dist-packages (from streamlit) (1.26.4)\n",
            "Requirement already satisfied: packaging<25,>=20 in /usr/local/lib/python3.10/dist-packages (from streamlit) (24.2)\n",
            "Requirement already satisfied: pandas<3,>=1.4.0 in /usr/local/lib/python3.10/dist-packages (from streamlit) (2.2.2)\n",
            "Requirement already satisfied: pillow<12,>=7.1.0 in /usr/local/lib/python3.10/dist-packages (from streamlit) (11.0.0)\n",
            "Requirement already satisfied: protobuf<6,>=3.20 in /usr/local/lib/python3.10/dist-packages (from streamlit) (4.25.5)\n",
            "Requirement already satisfied: pyarrow>=7.0 in /usr/local/lib/python3.10/dist-packages (from streamlit) (17.0.0)\n",
            "Requirement already satisfied: requests<3,>=2.27 in /usr/local/lib/python3.10/dist-packages (from streamlit) (2.32.3)\n",
            "Requirement already satisfied: rich<14,>=10.14.0 in /usr/local/lib/python3.10/dist-packages (from streamlit) (13.9.4)\n",
            "Requirement already satisfied: tenacity<10,>=8.1.0 in /usr/local/lib/python3.10/dist-packages (from streamlit) (9.0.0)\n",
            "Requirement already satisfied: toml<2,>=0.10.1 in /usr/local/lib/python3.10/dist-packages (from streamlit) (0.10.2)\n",
            "Requirement already satisfied: typing-extensions<5,>=4.3.0 in /usr/local/lib/python3.10/dist-packages (from streamlit) (4.12.2)\n",
            "Requirement already satisfied: watchdog<7,>=2.1.5 in /usr/local/lib/python3.10/dist-packages (from streamlit) (6.0.0)\n",
            "Requirement already satisfied: gitpython!=3.1.19,<4,>=3.0.7 in /usr/local/lib/python3.10/dist-packages (from streamlit) (3.1.43)\n",
            "Requirement already satisfied: pydeck<1,>=0.8.0b4 in /usr/local/lib/python3.10/dist-packages (from streamlit) (0.9.1)\n",
            "Requirement already satisfied: tornado<7,>=6.0.3 in /usr/local/lib/python3.10/dist-packages (from streamlit) (6.3.3)\n",
            "Requirement already satisfied: jinja2 in /usr/local/lib/python3.10/dist-packages (from altair<6,>=4.0->streamlit) (3.1.4)\n",
            "Requirement already satisfied: jsonschema>=3.0 in /usr/local/lib/python3.10/dist-packages (from altair<6,>=4.0->streamlit) (4.23.0)\n",
            "Requirement already satisfied: narwhals>=1.14.2 in /usr/local/lib/python3.10/dist-packages (from altair<6,>=4.0->streamlit) (1.17.0)\n",
            "Requirement already satisfied: gitdb<5,>=4.0.1 in /usr/local/lib/python3.10/dist-packages (from gitpython!=3.1.19,<4,>=3.0.7->streamlit) (4.0.11)\n",
            "Requirement already satisfied: python-dateutil>=2.8.2 in /usr/local/lib/python3.10/dist-packages (from pandas<3,>=1.4.0->streamlit) (2.8.2)\n",
            "Requirement already satisfied: pytz>=2020.1 in /usr/local/lib/python3.10/dist-packages (from pandas<3,>=1.4.0->streamlit) (2024.2)\n",
            "Requirement already satisfied: tzdata>=2022.7 in /usr/local/lib/python3.10/dist-packages (from pandas<3,>=1.4.0->streamlit) (2024.2)\n",
            "Requirement already satisfied: charset-normalizer<4,>=2 in /usr/local/lib/python3.10/dist-packages (from requests<3,>=2.27->streamlit) (3.4.0)\n",
            "Requirement already satisfied: idna<4,>=2.5 in /usr/local/lib/python3.10/dist-packages (from requests<3,>=2.27->streamlit) (3.10)\n",
            "Requirement already satisfied: urllib3<3,>=1.21.1 in /usr/local/lib/python3.10/dist-packages (from requests<3,>=2.27->streamlit) (2.2.3)\n",
            "Requirement already satisfied: certifi>=2017.4.17 in /usr/local/lib/python3.10/dist-packages (from requests<3,>=2.27->streamlit) (2024.8.30)\n",
            "Requirement already satisfied: markdown-it-py>=2.2.0 in /usr/local/lib/python3.10/dist-packages (from rich<14,>=10.14.0->streamlit) (3.0.0)\n",
            "Requirement already satisfied: pygments<3.0.0,>=2.13.0 in /usr/local/lib/python3.10/dist-packages (from rich<14,>=10.14.0->streamlit) (2.18.0)\n",
            "Requirement already satisfied: smmap<6,>=3.0.1 in /usr/local/lib/python3.10/dist-packages (from gitdb<5,>=4.0.1->gitpython!=3.1.19,<4,>=3.0.7->streamlit) (5.0.1)\n",
            "Requirement already satisfied: MarkupSafe>=2.0 in /usr/local/lib/python3.10/dist-packages (from jinja2->altair<6,>=4.0->streamlit) (3.0.2)\n",
            "Requirement already satisfied: attrs>=22.2.0 in /usr/local/lib/python3.10/dist-packages (from jsonschema>=3.0->altair<6,>=4.0->streamlit) (24.2.0)\n",
            "Requirement already satisfied: jsonschema-specifications>=2023.03.6 in /usr/local/lib/python3.10/dist-packages (from jsonschema>=3.0->altair<6,>=4.0->streamlit) (2024.10.1)\n",
            "Requirement already satisfied: referencing>=0.28.4 in /usr/local/lib/python3.10/dist-packages (from jsonschema>=3.0->altair<6,>=4.0->streamlit) (0.35.1)\n",
            "Requirement already satisfied: rpds-py>=0.7.1 in /usr/local/lib/python3.10/dist-packages (from jsonschema>=3.0->altair<6,>=4.0->streamlit) (0.22.3)\n",
            "Requirement already satisfied: mdurl~=0.1 in /usr/local/lib/python3.10/dist-packages (from markdown-it-py>=2.2.0->rich<14,>=10.14.0->streamlit) (0.1.2)\n",
            "Requirement already satisfied: six>=1.5 in /usr/local/lib/python3.10/dist-packages (from python-dateutil>=2.8.2->pandas<3,>=1.4.0->streamlit) (1.17.0)\n",
            "Requirement already satisfied: pyngrok==4.1.1 in /usr/local/lib/python3.10/dist-packages (4.1.1)\n",
            "Requirement already satisfied: future in /usr/local/lib/python3.10/dist-packages (from pyngrok==4.1.1) (1.0.0)\n",
            "Requirement already satisfied: PyYAML in /usr/local/lib/python3.10/dist-packages (from pyngrok==4.1.1) (6.0.2)\n"
          ]
        }
      ]
    },
    {
      "cell_type": "code",
      "source": [
        "import numpy as np\n",
        "import pandas as pd\n",
        "\n",
        "import os\n",
        "for dirname, _, filenames in os.walk('/Surendran/input'):\n",
        "    for filename in filenames:\n",
        "        print(os.path.join(dirname, filename))"
      ],
      "metadata": {
        "id": "2nPkD_nk3rSK"
      },
      "id": "2nPkD_nk3rSK",
      "execution_count": 4,
      "outputs": []
    },
    {
      "cell_type": "code",
      "source": [
        "from google.colab import drive\n",
        "drive.mount('/content/drive')"
      ],
      "metadata": {
        "colab": {
          "base_uri": "https://localhost:8080/"
        },
        "id": "cZde_KVRU3A_",
        "outputId": "6054c576-1348-4380-8ac7-94191f928db9"
      },
      "id": "cZde_KVRU3A_",
      "execution_count": 5,
      "outputs": [
        {
          "output_type": "stream",
          "name": "stdout",
          "text": [
            "Mounted at /content/drive\n"
          ]
        }
      ]
    },
    {
      "cell_type": "code",
      "source": [
        "!ls \"/content/drive/My Drive/beijing-multisite-airquality-data-set\""
      ],
      "metadata": {
        "colab": {
          "base_uri": "https://localhost:8080/"
        },
        "id": "SJ9BUtFeVN5J",
        "outputId": "6a83f770-3dc2-461a-e41b-c51fea77be7a"
      },
      "id": "SJ9BUtFeVN5J",
      "execution_count": 6,
      "outputs": [
        {
          "output_type": "stream",
          "name": "stdout",
          "text": [
            "PRSA_Data_Aotizhongxin_20130301-20170228.csv  PRSA_Data_Huairou_20130301-20170228.csv\n",
            "PRSA_Data_Changping_20130301-20170228.csv     PRSA_Data_Nongzhanguan_20130301-20170228.csv\n",
            "PRSA_Data_Dingling_20130301-20170228.csv      PRSA_Data_Shunyi_20130301-20170228.csv\n",
            "PRSA_Data_Dongsi_20130301-20170228.csv\t      PRSA_Data_Tiantan_20130301-20170228.csv\n",
            "PRSA_Data_Guanyuan_20130301-20170228.csv      PRSA_Data_Wanliu_20130301-20170228.csv\n",
            "PRSA_Data_Gucheng_20130301-20170228.csv       PRSA_Data_Wanshouxigong_20130301-20170228.csv\n"
          ]
        }
      ]
    },
    {
      "cell_type": "code",
      "source": [
        "#Importing Pandas for data manipulation and management\n",
        "import pandas as pd\n",
        "#Reading the city_day Data from Dirve.\n",
        "list_filenames = [\"PRSA_Data_Guanyuan_20130301-20170228.csv\",\"PRSA_Data_Aotizhongxin_20130301-20170228.csv\",\"PRSA_Data_Wanliu_20130301-20170228.csv\",\n",
        "                  \"PRSA_Data_Tiantan_20130301-20170228.csv\",\"PRSA_Data_Wanshouxigong_20130301-20170228.csv\",\"PRSA_Data_Nongzhanguan_20130301-20170228.csv\",\n",
        "                  \"PRSA_Data_Shunyi_20130301-20170228.csv\",\"PRSA_Data_Changping_20130301-20170228.csv\",\"PRSA_Data_Dingling_20130301-20170228.csv\",\n",
        "                  \"PRSA_Data_Huairou_20130301-20170228.csv\",\"PRSA_Data_Gucheng_20130301-20170228.csv\",\"PRSA_Data_Dongsi_20130301-20170228.csv\"]\n",
        "\n",
        "#Looping through the file names and creating dataframes for the files\n",
        "dataframes = []\n",
        "for filename in list_filenames:\n",
        "  dataframes.append(pd.read_csv('/content/drive/My Drive/beijing-multisite-airquality-data-set/' + filename))\n"
      ],
      "metadata": {
        "id": "82_n_DjaV6J6"
      },
      "id": "82_n_DjaV6J6",
      "execution_count": 7,
      "outputs": []
    }
  ],
  "metadata": {
    "colab": {
      "provenance": [],
      "include_colab_link": true
    },
    "language_info": {
      "name": "python"
    },
    "kernelspec": {
      "name": "python3",
      "display_name": "Python 3"
    }
  },
  "nbformat": 4,
  "nbformat_minor": 5
}